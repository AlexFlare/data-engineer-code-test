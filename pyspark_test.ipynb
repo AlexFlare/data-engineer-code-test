{
  "nbformat": 4,
  "nbformat_minor": 0,
  "metadata": {
    "colab": {
      "provenance": [],
      "authorship_tag": "ABX9TyPCnrmle1K0pXitgR0E9eHy",
      "include_colab_link": true
    },
    "kernelspec": {
      "name": "python3",
      "display_name": "Python 3"
    },
    "language_info": {
      "name": "python"
    }
  },
  "cells": [
    {
      "cell_type": "markdown",
      "metadata": {
        "id": "view-in-github",
        "colab_type": "text"
      },
      "source": [
        "<a href=\"https://colab.research.google.com/github/AlexFlare/data-engineer-code-test/blob/main/pyspark_test.ipynb\" target=\"_parent\"><img src=\"https://colab.research.google.com/assets/colab-badge.svg\" alt=\"Open In Colab\"/></a>"
      ]
    },
    {
      "cell_type": "code",
      "source": [
        "# Load pretty big dataset from kaggle\n",
        "\n",
        "! pip install -q kaggle\n",
        "from google.colab import drive\n",
        "drive.mount('/content/drive', force_remount=True)\n",
        "! mkdir ~/.kaggle\n",
        "! cp '/content/drive/MyDrive/ColabNotebooks/kaggle.json' ~/.kaggle/ # файл kaggle.json можно положить в любую папку в Drive, главное указать актуальный адрес в первом аргументе команды cp\n",
        "! chmod 600 ~/.kaggle/kaggle.json\n",
        "# ! kaggle datasets list\n",
        "! kaggle datasets download -d 'karmukilandk/vibration-analysis-on-rotating-shaft'\n",
        "! mkdir data\n",
        "! unzip vibration-analysis-on-rotating-shaft.zip -d data"
      ],
      "metadata": {
        "colab": {
          "base_uri": "https://localhost:8080/"
        },
        "id": "6zeU6O9MCAoU",
        "outputId": "bbfbf0c7-a34d-46cb-e3bd-f4157089301b"
      },
      "execution_count": 2,
      "outputs": [
        {
          "output_type": "stream",
          "name": "stdout",
          "text": [
            "Mounted at /content/drive\n",
            "Dataset URL: https://www.kaggle.com/datasets/karmukilandk/vibration-analysis-on-rotating-shaft\n",
            "License(s): MIT\n",
            "Downloading vibration-analysis-on-rotating-shaft.zip to /content\n",
            " 99% 2.38G/2.39G [00:50<00:00, 16.2MB/s]\n",
            "100% 2.39G/2.39G [00:50<00:00, 50.6MB/s]\n",
            "Archive:  vibration-analysis-on-rotating-shaft.zip\n",
            "  inflating: data/cleaned_labeled_vibration_data.csv  \n"
          ]
        }
      ]
    },
    {
      "cell_type": "code",
      "execution_count": 1,
      "metadata": {
        "colab": {
          "base_uri": "https://localhost:8080/",
          "height": 584
        },
        "collapsed": true,
        "id": "yMmiWQ3Q6pzP",
        "outputId": "d5ae7c0a-9b57-49d6-84b9-b4836e885b3f"
      },
      "outputs": [
        {
          "output_type": "stream",
          "name": "stdout",
          "text": [
            "Hit:1 https://developer.download.nvidia.com/compute/cuda/repos/ubuntu2204/x86_64  InRelease\n",
            "Get:2 https://cloud.r-project.org/bin/linux/ubuntu jammy-cran40/ InRelease [3,632 B]\n",
            "Hit:3 http://archive.ubuntu.com/ubuntu jammy InRelease\n",
            "Get:4 https://r2u.stat.illinois.edu/ubuntu jammy InRelease [6,555 B]\n",
            "Get:5 http://archive.ubuntu.com/ubuntu jammy-updates InRelease [128 kB]\n",
            "Get:6 http://security.ubuntu.com/ubuntu jammy-security InRelease [129 kB]\n",
            "Hit:7 https://ppa.launchpadcontent.net/deadsnakes/ppa/ubuntu jammy InRelease\n",
            "Get:8 http://archive.ubuntu.com/ubuntu jammy-backports InRelease [127 kB]\n",
            "Hit:9 https://ppa.launchpadcontent.net/graphics-drivers/ppa/ubuntu jammy InRelease\n",
            "Hit:10 https://ppa.launchpadcontent.net/ubuntugis/ppa/ubuntu jammy InRelease\n",
            "Get:11 https://r2u.stat.illinois.edu/ubuntu jammy/main amd64 Packages [2,772 kB]\n",
            "Get:12 http://archive.ubuntu.com/ubuntu jammy-updates/universe amd64 Packages [1,574 kB]\n",
            "Get:13 https://r2u.stat.illinois.edu/ubuntu jammy/main all Packages [9,152 kB]\n",
            "Get:14 http://archive.ubuntu.com/ubuntu jammy-updates/main amd64 Packages [3,508 kB]\n",
            "Get:15 http://archive.ubuntu.com/ubuntu jammy-updates/restricted amd64 Packages [5,255 kB]\n",
            "Get:16 http://security.ubuntu.com/ubuntu jammy-security/universe amd64 Packages [1,269 kB]\n",
            "Get:17 http://security.ubuntu.com/ubuntu jammy-security/main amd64 Packages [3,160 kB]\n",
            "Fetched 27.1 MB in 5s (5,497 kB/s)\n",
            "Reading package lists... Done\n",
            "W: Skipping acquire of configured file 'main/source/Sources' as repository 'https://r2u.stat.illinois.edu/ubuntu jammy InRelease' does not seem to provide it (sources.list entry misspelt?)\n",
            "sample_data  spark-3.1.1-bin-hadoop3.2\tspark-3.1.1-bin-hadoop3.2.tgz\n"
          ]
        },
        {
          "output_type": "execute_result",
          "data": {
            "text/plain": [
              "<pyspark.sql.session.SparkSession at 0x7c1782070e10>"
            ],
            "text/html": [
              "\n",
              "            <div>\n",
              "                <p><b>SparkSession - in-memory</b></p>\n",
              "                \n",
              "        <div>\n",
              "            <p><b>SparkContext</b></p>\n",
              "\n",
              "            <p><a href=\"http://88746900ed0e:4040\">Spark UI</a></p>\n",
              "\n",
              "            <dl>\n",
              "              <dt>Version</dt>\n",
              "                <dd><code>v3.1.1</code></dd>\n",
              "              <dt>Master</dt>\n",
              "                <dd><code>local[*]</code></dd>\n",
              "              <dt>AppName</dt>\n",
              "                <dd><code>pyspark-shell</code></dd>\n",
              "            </dl>\n",
              "        </div>\n",
              "        \n",
              "            </div>\n",
              "        "
            ]
          },
          "metadata": {},
          "execution_count": 1
        }
      ],
      "source": [
        "# Setup Spark\n",
        "\n",
        "!apt-get update # Update apt-get repository.\n",
        "!apt-get install openjdk-8-jdk-headless -qq > /dev/null # Install Java.\n",
        "!wget -q http://archive.apache.org/dist/spark/spark-3.1.1/spark-3.1.1-bin-hadoop3.2.tgz # Download Apache Sparks.\n",
        "!tar xf spark-3.1.1-bin-hadoop3.2.tgz # Unzip the tgz file.\n",
        "!pip install -q findspark # Install findspark. Adds PySpark to the System path during runtime.\n",
        "\n",
        "# Set environment variables\n",
        "import os\n",
        "os.environ[\"JAVA_HOME\"] = \"/usr/lib/jvm/java-8-openjdk-amd64\"\n",
        "os.environ[\"SPARK_HOME\"] = \"/content/spark-3.1.1-bin-hadoop3.2\"\n",
        "\n",
        "!ls\n",
        "\n",
        "# Initialize findspark\n",
        "import findspark\n",
        "findspark.init()\n",
        "\n",
        "# Create a PySpark session\n",
        "from pyspark.sql import SparkSession\n",
        "spark = SparkSession.builder.master(\"local[*]\").getOrCreate()\n",
        "spark"
      ]
    },
    {
      "cell_type": "code",
      "source": [
        "df_spark = spark.read.csv('data/cleaned_labeled_vibration_data.csv', header=True, inferSchema=True)\n",
        "df_spark.printSchema()"
      ],
      "metadata": {
        "colab": {
          "base_uri": "https://localhost:8080/"
        },
        "id": "raOVmzJ5C1AS",
        "outputId": "059dadf8-b173-4dd4-c770-a0403065bb56"
      },
      "execution_count": 3,
      "outputs": [
        {
          "output_type": "stream",
          "name": "stdout",
          "text": [
            "root\n",
            " |-- V_in: double (nullable = true)\n",
            " |-- Measured_RPM: double (nullable = true)\n",
            " |-- Vibration_1: double (nullable = true)\n",
            " |-- Vibration_2: double (nullable = true)\n",
            " |-- Vibration_3: double (nullable = true)\n",
            " |-- label: string (nullable = true)\n",
            " |-- unbalance_level: integer (nullable = true)\n",
            " |-- dataset_type: string (nullable = true)\n",
            "\n"
          ]
        }
      ]
    },
    {
      "cell_type": "code",
      "source": [
        "df_spark.show()"
      ],
      "metadata": {
        "colab": {
          "base_uri": "https://localhost:8080/"
        },
        "id": "4TObLSyWFeps",
        "outputId": "88b8ba43-53c0-4b77-fc31-70873cb4a041"
      },
      "execution_count": 4,
      "outputs": [
        {
          "output_type": "stream",
          "name": "stdout",
          "text": [
            "+----+------------+-----------+-----------+-----------+-----+---------------+------------+\n",
            "|V_in|Measured_RPM|Vibration_1|Vibration_2|Vibration_3|label|unbalance_level|dataset_type|\n",
            "+----+------------+-----------+-----------+-----------+-----+---------------+------------+\n",
            "| 0.0|   28.610235|        0.0|        0.0|        0.0| Idle|              0|           D|\n",
            "| 0.0|   28.610235|        0.0|        0.0|        0.0| Idle|              0|           D|\n",
            "| 0.0|   28.610235|        0.0|        0.0|        0.0| Idle|              0|           D|\n",
            "| 0.0|   28.610235|        0.0|        0.0|        0.0| Idle|              0|           D|\n",
            "| 0.0|   28.610235|        0.0|        0.0|        0.0| Idle|              0|           D|\n",
            "| 0.0|   28.610235|        0.0|        0.0|        0.0| Idle|              0|           D|\n",
            "| 0.0|   28.610235|        0.0|        0.0|        0.0| Idle|              0|           D|\n",
            "| 0.0|   28.610235|        0.0|        0.0|        0.0| Idle|              0|           D|\n",
            "| 0.0|   28.610235|        0.0|        0.0|        0.0| Idle|              0|           D|\n",
            "| 0.0|   28.610235|        0.0|        0.0|        0.0| Idle|              0|           D|\n",
            "| 0.0|   28.610235|        0.0|        0.0|        0.0| Idle|              0|           D|\n",
            "| 0.0|   28.610235|        0.0|        0.0|        0.0| Idle|              0|           D|\n",
            "| 0.0|   28.610235|        0.0|        0.0|        0.0| Idle|              0|           D|\n",
            "| 0.0|   28.610235|        0.0|        0.0|        0.0| Idle|              0|           D|\n",
            "| 0.0|   28.610235|        0.0|        0.0|        0.0| Idle|              0|           D|\n",
            "| 0.0|   28.610235|        0.0|        0.0|        0.0| Idle|              0|           D|\n",
            "| 0.0|   28.610235|        0.0|        0.0|        0.0| Idle|              0|           D|\n",
            "| 0.0|   28.610235|        0.0|        0.0|        0.0| Idle|              0|           D|\n",
            "| 0.0|   28.610235|        0.0|        0.0|        0.0| Idle|              0|           D|\n",
            "| 0.0|   28.610235|        0.0|        0.0|        0.0| Idle|              0|           D|\n",
            "+----+------------+-----------+-----------+-----------+-----+---------------+------------+\n",
            "only showing top 20 rows\n",
            "\n"
          ]
        }
      ]
    },
    {
      "cell_type": "code",
      "source": [
        "df_spark = df_spark.dropna()\n",
        "#df_spark.pandas_api().isna().sum()"
      ],
      "metadata": {
        "id": "0JP113IiFxdU"
      },
      "execution_count": 7,
      "outputs": []
    }
  ]
}